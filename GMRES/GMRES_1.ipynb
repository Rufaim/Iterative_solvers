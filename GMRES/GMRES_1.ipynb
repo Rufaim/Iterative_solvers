{
 "cells": [
  {
   "cell_type": "code",
   "execution_count": 1,
   "metadata": {
    "collapsed": true
   },
   "outputs": [],
   "source": [
    "import numpy as np\n",
    "import scipy.io as scio\n",
    "import scipy.sparse as scsp"
   ]
  },
  {
   "cell_type": "code",
   "execution_count": 2,
   "metadata": {},
   "outputs": [
    {
     "data": {
      "text/plain": [
       "(10000, 10000, 49699, 'coordinate', 'real', 'general')"
      ]
     },
     "execution_count": 2,
     "metadata": {},
     "output_type": "execute_result"
    }
   ],
   "source": [
    "tup = scio.mminfo('C:\\\\Users\\\\Petr\\\\Downloads\\\\Материал курсач\\\\cryg10K.mtx')#\\\\test.mtx')#\\\\onetone1\\\\onetone1.mtx')#\\\\add32.mtx')#\n",
    "tup"
   ]
  },
  {
   "cell_type": "code",
   "execution_count": 3,
   "metadata": {},
   "outputs": [
    {
     "data": {
      "text/plain": [
       "<10000x10000 sparse matrix of type '<class 'numpy.float64'>'\n",
       "\twith 49699 stored elements in COOrdinate format>"
      ]
     },
     "execution_count": 3,
     "metadata": {},
     "output_type": "execute_result"
    }
   ],
   "source": [
    "A = scio.mmread('C:\\\\Users\\\\Petr\\\\Downloads\\\\Материал курсач\\\\cryg10K.mtx') #\\\\onetone1\\\\onetone1.mtx')#\\\\add32.mtx')#\\\\test.mtx')#\n",
    "A"
   ]
  },
  {
   "cell_type": "code",
   "execution_count": 4,
   "metadata": {},
   "outputs": [
    {
     "data": {
      "text/plain": [
       "(array([ -1.03039188e+04,   1.01131678e+04,  -6.97087869e+03, ...,\n",
       "         -2.90448084e-03,  -2.13066032e-02,  -3.84251215e-03]), 80000)"
      ]
     },
     "execution_count": 4,
     "metadata": {},
     "output_type": "execute_result"
    }
   ],
   "source": [
    "np.random.seed(abs(tup[0]-tup[2]))\n",
    "b = A.dot(np.random.rand(tup[0]))\n",
    "b, b.nbytes"
   ]
  },
  {
   "cell_type": "code",
   "execution_count": 115,
   "metadata": {},
   "outputs": [
    {
     "name": "stdout",
     "output_type": "stream",
     "text": [
      "110 ms ± 30.9 ms per loop (mean ± std. dev. of 7 runs, 10 loops each)\n"
     ]
    }
   ],
   "source": [
    "%timeit A.toarray().dot(b) #!!!VERY BAD"
   ]
  },
  {
   "cell_type": "code",
   "execution_count": 34,
   "metadata": {
    "collapsed": true,
    "scrolled": true
   },
   "outputs": [],
   "source": [
    "qq = scsp.coo.coo_matrix(qq)"
   ]
  },
  {
   "cell_type": "code",
   "execution_count": 35,
   "metadata": {},
   "outputs": [
    {
     "name": "stdout",
     "output_type": "stream",
     "text": [
      "21.6 ms ± 59 µs per loop (mean ± std. dev. of 7 runs, 10 loops each)\n"
     ]
    }
   ],
   "source": [
    "%timeit qq.toarray()"
   ]
  },
  {
   "cell_type": "code",
   "execution_count": 117,
   "metadata": {},
   "outputs": [
    {
     "name": "stdout",
     "output_type": "stream",
     "text": [
      "31.8 µs ± 50.2 ns per loop (mean ± std. dev. of 7 runs, 10000 loops each)\n"
     ]
    }
   ],
   "source": [
    "%timeit A.dot(b) #NICE"
   ]
  },
  {
   "cell_type": "code",
   "execution_count": 12,
   "metadata": {
    "collapsed": true
   },
   "outputs": [],
   "source": [
    "def gmres(a, b, x0, m, tol = 1e-15):\n",
    "    \"\"\"Solves the linear system Ax = b with the GMRES(m)\n",
    "    \n",
    "    Parameters\n",
    "    ----------\n",
    "        a : ndarray or coo_matrix\n",
    "            Square real unsymmetric matrix.\n",
    "        b : ndarray\n",
    "            Column vector.\n",
    "        x0 : ndarray\n",
    "            Initial guess.\n",
    "        m : int\n",
    "            Maximum size of Krylov subspace, m > 1.\n",
    "        tol : float\n",
    "            Tolerance for the stopping criterion: rorm(impicit residual) <= tol.\n",
    "    \n",
    "    Returns\n",
    "    -------\n",
    "        x : ndarray\n",
    "            Approximate solution.\n",
    "        in_res : ndarray\n",
    "            Initial residual.\n",
    "        im_res : ndarray\n",
    "            Final implicit residual.\n",
    "        n_mult : int\n",
    "            Number of MV multiplications.\n",
    "    \"\"\"\n",
    "    v = b - a.dot(x0)\n",
    "    hh = np.linalg.norm(v)\n",
    "    in_res = hh\n",
    "    \n",
    "    if hh <= tol:\n",
    "        im_res = hh\n",
    "        x = x0\n",
    "        n_mult = 1\n",
    "        return x, in_res, im_res, n_mult\n",
    "    else:\n",
    "        h = np.zeros((m,m))\n",
    "        c = np.zeros((m,1))\n",
    "        s = np.zeros((m,1))\n",
    "        y = np.zeros((m+1,1))\n",
    "        y[0] = hh\n",
    "        j = 0\n",
    "        im_res = hh\n",
    "    \n",
    "        while j < m and im_res > tol:\n",
    "            \n",
    "            v[j:] = v[j:]/hh\n",
    "            vnew = a.dot(v[j:].T)\n",
    "            h[0:j+1,j] = v.dot(vnew).T\n",
    "\n",
    "            if(v.size == b.shape[0]):\n",
    "                vnew -= v*h[0:j+1,j]\n",
    "            else:\n",
    "                vnew -= v.T.dot(h[0:j+1,j]).reshape((b.size,1))\n",
    "            hh = np.linalg.norm(vnew)\n",
    "\n",
    "            for i in range(0,j):\n",
    "                h[i:i+2,j] = np.vstack((np.hstack((c[i],s[i])),np.hstack((-s[i],c[i])))).dot(h[i:i+2,j])\n",
    "\n",
    "            if(hh!=0.0):\n",
    "                ww=np.linalg.norm(np.hstack((h[j,j],hh)))\n",
    "                c[j] = h[j,j]/ww\n",
    "                s[j] = hh/ww\n",
    "                y[j+1] = -s[j]*y[j]\n",
    "                y[j] = c[j]*y[j]\n",
    "                h[j, j] = ww\n",
    "                im_res = float(abs(y[j+1]))\n",
    "            else:\n",
    "                im_res = 0.0\n",
    "\n",
    "            j+=1\n",
    "            v = np.vstack((v, vnew.T))\n",
    "        j-=1\n",
    "        y[j] = y[j]/h[j,j]\n",
    "        for i in range(j-1,-1,-1):\n",
    "            y[i] = (y[i] - h[i,i+1:j+1].dot(y[i+1:j+1]))/h[i,i]\n",
    "        x = x0 + v[:j+1].T.dot(y[0:j+1]).T\n",
    "        n_mult = j+1\n",
    "        return x, in_res, im_res, n_mult"
   ]
  },
  {
   "cell_type": "code",
   "execution_count": 13,
   "metadata": {},
   "outputs": [
    {
     "data": {
      "text/plain": [
       "array([[ 0.67633749,  0.21345724,  0.79778533, ...,  0.01511855,\n",
       "         0.01146739,  0.00271485]])"
      ]
     },
     "execution_count": 13,
     "metadata": {},
     "output_type": "execute_result"
    }
   ],
   "source": [
    "x0=np.zeros(b.size)\n",
    "x,r0,rn,nm = gmres(A, b, x0, 1000, tol = 1e-15)\n",
    "x"
   ]
  },
  {
   "cell_type": "code",
   "execution_count": 14,
   "metadata": {},
   "outputs": [
    {
     "data": {
      "text/plain": [
       "1.1968160804851386e-05"
      ]
     },
     "execution_count": 14,
     "metadata": {},
     "output_type": "execute_result"
    }
   ],
   "source": [
    "np.linalg.norm(rn)/np.linalg.norm(r0)"
   ]
  },
  {
   "cell_type": "code",
   "execution_count": 15,
   "metadata": {},
   "outputs": [
    {
     "data": {
      "text/plain": [
       "5.423407294990354"
      ]
     },
     "execution_count": 15,
     "metadata": {},
     "output_type": "execute_result"
    }
   ],
   "source": [
    "np.linalg.norm(rn-(b-A.dot(x[0])))/np.linalg.norm(b-A.dot(x[0]))"
   ]
  },
  {
   "cell_type": "code",
   "execution_count": 16,
   "metadata": {},
   "outputs": [
    {
     "data": {
      "text/plain": [
       "array([-0.01680314, -0.03588657,  0.02564902, ..., -0.00303412,\n",
       "        0.00337383, -0.00281881])"
      ]
     },
     "execution_count": 16,
     "metadata": {},
     "output_type": "execute_result"
    }
   ],
   "source": [
    "b-A.dot(x[0])"
   ]
  }
 ],
 "metadata": {
  "kernelspec": {
   "display_name": "Python 3",
   "language": "python",
   "name": "python3"
  },
  "language_info": {
   "codemirror_mode": {
    "name": "ipython",
    "version": 3
   },
   "file_extension": ".py",
   "mimetype": "text/x-python",
   "name": "python",
   "nbconvert_exporter": "python",
   "pygments_lexer": "ipython3",
   "version": "3.6.3"
  }
 },
 "nbformat": 4,
 "nbformat_minor": 2
}
